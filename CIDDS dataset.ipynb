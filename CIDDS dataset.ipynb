{
 "cells": [
  {
   "cell_type": "code",
   "execution_count": 1,
   "id": "9b18bf01",
   "metadata": {},
   "outputs": [],
   "source": [
    "import pandas as pd\n",
    "import matplotlib.pyplot as plt\n",
    "import seaborn as sns\n",
    "import numpy as np"
   ]
  },
  {
   "cell_type": "code",
   "execution_count": 2,
   "id": "94d0be3e",
   "metadata": {},
   "outputs": [],
   "source": [
    "%matplotlib inline\n",
    "sns.set_style(\"whitegrid\")\n",
    "plt.style.use(\"fivethirtyeight\")"
   ]
  },
  {
   "cell_type": "code",
   "execution_count": 3,
   "id": "447f06ed",
   "metadata": {},
   "outputs": [
    {
     "name": "stderr",
     "output_type": "stream",
     "text": [
      "C:\\Users\\ANKIT\\anaconda3\\lib\\site-packages\\IPython\\core\\interactiveshell.py:3165: DtypeWarning: Columns (10) have mixed types.Specify dtype option on import or set low_memory=False.\n",
      "  has_raised = await self.run_ast_nodes(code_ast.body, cell_name,\n"
     ]
    },
    {
     "data": {
      "text/html": [
       "<div>\n",
       "<style scoped>\n",
       "    .dataframe tbody tr th:only-of-type {\n",
       "        vertical-align: middle;\n",
       "    }\n",
       "\n",
       "    .dataframe tbody tr th {\n",
       "        vertical-align: top;\n",
       "    }\n",
       "\n",
       "    .dataframe thead th {\n",
       "        text-align: right;\n",
       "    }\n",
       "</style>\n",
       "<table border=\"1\" class=\"dataframe\">\n",
       "  <thead>\n",
       "    <tr style=\"text-align: right;\">\n",
       "      <th></th>\n",
       "      <th>ProtocolName</th>\n",
       "      <th>SrcIPAddress</th>\n",
       "      <th>SrcPort</th>\n",
       "      <th>DstIPAddress</th>\n",
       "      <th>DstPort</th>\n",
       "      <th>Packets</th>\n",
       "      <th>Bytes</th>\n",
       "      <th>Tag</th>\n",
       "      <th>Unnamed: 8</th>\n",
       "      <th>Unnamed: 9</th>\n",
       "      <th>Unnamed: 10</th>\n",
       "    </tr>\n",
       "  </thead>\n",
       "  <tbody>\n",
       "    <tr>\n",
       "      <th>0</th>\n",
       "      <td>1</td>\n",
       "      <td>200000000</td>\n",
       "      <td>8082</td>\n",
       "      <td>100000000</td>\n",
       "      <td>56978.0</td>\n",
       "      <td>3057</td>\n",
       "      <td>2100000</td>\n",
       "      <td>1</td>\n",
       "      <td>NaN</td>\n",
       "      <td>NaN</td>\n",
       "      <td>1- ATTACK</td>\n",
       "    </tr>\n",
       "    <tr>\n",
       "      <th>1</th>\n",
       "      <td>1</td>\n",
       "      <td>100000000</td>\n",
       "      <td>56978</td>\n",
       "      <td>200000000</td>\n",
       "      <td>8082.0</td>\n",
       "      <td>4748</td>\n",
       "      <td>2500000</td>\n",
       "      <td>1</td>\n",
       "      <td>NaN</td>\n",
       "      <td>NaN</td>\n",
       "      <td>0-NORMAL</td>\n",
       "    </tr>\n",
       "    <tr>\n",
       "      <th>2</th>\n",
       "      <td>1</td>\n",
       "      <td>200000000</td>\n",
       "      <td>8082</td>\n",
       "      <td>100000000</td>\n",
       "      <td>56979.0</td>\n",
       "      <td>8639</td>\n",
       "      <td>9100000</td>\n",
       "      <td>1</td>\n",
       "      <td>NaN</td>\n",
       "      <td>NaN</td>\n",
       "      <td>NaN</td>\n",
       "    </tr>\n",
       "    <tr>\n",
       "      <th>3</th>\n",
       "      <td>1</td>\n",
       "      <td>100000000</td>\n",
       "      <td>56979</td>\n",
       "      <td>200000000</td>\n",
       "      <td>8082.0</td>\n",
       "      <td>12024</td>\n",
       "      <td>10300000</td>\n",
       "      <td>1</td>\n",
       "      <td>NaN</td>\n",
       "      <td>NaN</td>\n",
       "      <td>NaN</td>\n",
       "    </tr>\n",
       "    <tr>\n",
       "      <th>4</th>\n",
       "      <td>1</td>\n",
       "      <td>200000000</td>\n",
       "      <td>8082</td>\n",
       "      <td>100000000</td>\n",
       "      <td>51649.0</td>\n",
       "      <td>11012</td>\n",
       "      <td>27200000</td>\n",
       "      <td>1</td>\n",
       "      <td>NaN</td>\n",
       "      <td>NaN</td>\n",
       "      <td>NaN</td>\n",
       "    </tr>\n",
       "    <tr>\n",
       "      <th>5</th>\n",
       "      <td>1</td>\n",
       "      <td>100000000</td>\n",
       "      <td>51649</td>\n",
       "      <td>200000000</td>\n",
       "      <td>8082.0</td>\n",
       "      <td>14186</td>\n",
       "      <td>1200000</td>\n",
       "      <td>1</td>\n",
       "      <td>NaN</td>\n",
       "      <td>NaN</td>\n",
       "      <td>NaN</td>\n",
       "    </tr>\n",
       "    <tr>\n",
       "      <th>6</th>\n",
       "      <td>1</td>\n",
       "      <td>200000000</td>\n",
       "      <td>8082</td>\n",
       "      <td>100000000</td>\n",
       "      <td>37039.0</td>\n",
       "      <td>9974</td>\n",
       "      <td>31900000</td>\n",
       "      <td>1</td>\n",
       "      <td>NaN</td>\n",
       "      <td>NaN</td>\n",
       "      <td>NaN</td>\n",
       "    </tr>\n",
       "    <tr>\n",
       "      <th>7</th>\n",
       "      <td>1</td>\n",
       "      <td>100000000</td>\n",
       "      <td>37039</td>\n",
       "      <td>200000000</td>\n",
       "      <td>8082.0</td>\n",
       "      <td>16476</td>\n",
       "      <td>1700000</td>\n",
       "      <td>1</td>\n",
       "      <td>NaN</td>\n",
       "      <td>NaN</td>\n",
       "      <td>NaN</td>\n",
       "    </tr>\n",
       "    <tr>\n",
       "      <th>8</th>\n",
       "      <td>1</td>\n",
       "      <td>200000000</td>\n",
       "      <td>8082</td>\n",
       "      <td>100000000</td>\n",
       "      <td>48380.0</td>\n",
       "      <td>10178</td>\n",
       "      <td>25200000</td>\n",
       "      <td>1</td>\n",
       "      <td>NaN</td>\n",
       "      <td>NaN</td>\n",
       "      <td>NaN</td>\n",
       "    </tr>\n",
       "    <tr>\n",
       "      <th>9</th>\n",
       "      <td>1</td>\n",
       "      <td>100000000</td>\n",
       "      <td>48380</td>\n",
       "      <td>200000000</td>\n",
       "      <td>8082.0</td>\n",
       "      <td>14552</td>\n",
       "      <td>2600000</td>\n",
       "      <td>1</td>\n",
       "      <td>NaN</td>\n",
       "      <td>NaN</td>\n",
       "      <td>NaN</td>\n",
       "    </tr>\n",
       "  </tbody>\n",
       "</table>\n",
       "</div>"
      ],
      "text/plain": [
       "   ProtocolName  SrcIPAddress  SrcPort  DstIPAddress  DstPort  Packets  \\\n",
       "0             1     200000000     8082     100000000  56978.0     3057   \n",
       "1             1     100000000    56978     200000000   8082.0     4748   \n",
       "2             1     200000000     8082     100000000  56979.0     8639   \n",
       "3             1     100000000    56979     200000000   8082.0    12024   \n",
       "4             1     200000000     8082     100000000  51649.0    11012   \n",
       "5             1     100000000    51649     200000000   8082.0    14186   \n",
       "6             1     200000000     8082     100000000  37039.0     9974   \n",
       "7             1     100000000    37039     200000000   8082.0    16476   \n",
       "8             1     200000000     8082     100000000  48380.0    10178   \n",
       "9             1     100000000    48380     200000000   8082.0    14552   \n",
       "\n",
       "      Bytes  Tag  Unnamed: 8  Unnamed: 9 Unnamed: 10  \n",
       "0   2100000    1         NaN         NaN   1- ATTACK  \n",
       "1   2500000    1         NaN         NaN    0-NORMAL  \n",
       "2   9100000    1         NaN         NaN         NaN  \n",
       "3  10300000    1         NaN         NaN         NaN  \n",
       "4  27200000    1         NaN         NaN         NaN  \n",
       "5   1200000    1         NaN         NaN         NaN  \n",
       "6  31900000    1         NaN         NaN         NaN  \n",
       "7   1700000    1         NaN         NaN         NaN  \n",
       "8  25200000    1         NaN         NaN         NaN  \n",
       "9   2600000    1         NaN         NaN         NaN  "
      ]
     },
     "execution_count": 3,
     "metadata": {},
     "output_type": "execute_result"
    }
   ],
   "source": [
    "df = pd.read_csv('cidds_preprocessed.csv')\n",
    "df[0:10]"
   ]
  },
  {
   "cell_type": "code",
   "execution_count": 4,
   "id": "eba14330",
   "metadata": {},
   "outputs": [],
   "source": [
    "pd.set_option(\"display.float\", \"{:.2f}\".format)"
   ]
  },
  {
   "cell_type": "code",
   "execution_count": 5,
   "id": "8893fa26",
   "metadata": {},
   "outputs": [
    {
     "data": {
      "text/html": [
       "<div>\n",
       "<style scoped>\n",
       "    .dataframe tbody tr th:only-of-type {\n",
       "        vertical-align: middle;\n",
       "    }\n",
       "\n",
       "    .dataframe tbody tr th {\n",
       "        vertical-align: top;\n",
       "    }\n",
       "\n",
       "    .dataframe thead th {\n",
       "        text-align: right;\n",
       "    }\n",
       "</style>\n",
       "<table border=\"1\" class=\"dataframe\">\n",
       "  <thead>\n",
       "    <tr style=\"text-align: right;\">\n",
       "      <th></th>\n",
       "      <th>ProtocolName</th>\n",
       "      <th>SrcIPAddress</th>\n",
       "      <th>SrcPort</th>\n",
       "      <th>DstIPAddress</th>\n",
       "      <th>DstPort</th>\n",
       "      <th>Packets</th>\n",
       "      <th>Bytes</th>\n",
       "      <th>Tag</th>\n",
       "      <th>Unnamed: 8</th>\n",
       "      <th>Unnamed: 9</th>\n",
       "    </tr>\n",
       "  </thead>\n",
       "  <tbody>\n",
       "    <tr>\n",
       "      <th>count</th>\n",
       "      <td>671241.00</td>\n",
       "      <td>671241.00</td>\n",
       "      <td>671241.00</td>\n",
       "      <td>671241.00</td>\n",
       "      <td>671241.00</td>\n",
       "      <td>671241.00</td>\n",
       "      <td>671241.00</td>\n",
       "      <td>671241.00</td>\n",
       "      <td>0.00</td>\n",
       "      <td>0.00</td>\n",
       "    </tr>\n",
       "    <tr>\n",
       "      <th>mean</th>\n",
       "      <td>1.05</td>\n",
       "      <td>157011895.87</td>\n",
       "      <td>22546.26</td>\n",
       "      <td>157891171.06</td>\n",
       "      <td>22280.27</td>\n",
       "      <td>24.01</td>\n",
       "      <td>20001.40</td>\n",
       "      <td>0.20</td>\n",
       "      <td>nan</td>\n",
       "      <td>nan</td>\n",
       "    </tr>\n",
       "    <tr>\n",
       "      <th>std</th>\n",
       "      <td>0.30</td>\n",
       "      <td>86158949.59</td>\n",
       "      <td>23975.27</td>\n",
       "      <td>85830713.89</td>\n",
       "      <td>23942.46</td>\n",
       "      <td>1044.98</td>\n",
       "      <td>1950428.42</td>\n",
       "      <td>0.40</td>\n",
       "      <td>nan</td>\n",
       "      <td>nan</td>\n",
       "    </tr>\n",
       "    <tr>\n",
       "      <th>min</th>\n",
       "      <td>1.00</td>\n",
       "      <td>1000105.00</td>\n",
       "      <td>0.00</td>\n",
       "      <td>1000105.00</td>\n",
       "      <td>0.00</td>\n",
       "      <td>1.00</td>\n",
       "      <td>28.00</td>\n",
       "      <td>0.00</td>\n",
       "      <td>nan</td>\n",
       "      <td>nan</td>\n",
       "    </tr>\n",
       "    <tr>\n",
       "      <th>25%</th>\n",
       "      <td>1.00</td>\n",
       "      <td>100000000.00</td>\n",
       "      <td>22.00</td>\n",
       "      <td>100000000.00</td>\n",
       "      <td>22.00</td>\n",
       "      <td>5.00</td>\n",
       "      <td>264.00</td>\n",
       "      <td>0.00</td>\n",
       "      <td>nan</td>\n",
       "      <td>nan</td>\n",
       "    </tr>\n",
       "    <tr>\n",
       "      <th>50%</th>\n",
       "      <td>1.00</td>\n",
       "      <td>200000000.00</td>\n",
       "      <td>8000.00</td>\n",
       "      <td>200000000.00</td>\n",
       "      <td>8000.00</td>\n",
       "      <td>8.00</td>\n",
       "      <td>1326.00</td>\n",
       "      <td>0.00</td>\n",
       "      <td>nan</td>\n",
       "      <td>nan</td>\n",
       "    </tr>\n",
       "    <tr>\n",
       "      <th>75%</th>\n",
       "      <td>1.00</td>\n",
       "      <td>200000000.00</td>\n",
       "      <td>49302.00</td>\n",
       "      <td>200000000.00</td>\n",
       "      <td>49075.00</td>\n",
       "      <td>19.00</td>\n",
       "      <td>3004.00</td>\n",
       "      <td>0.00</td>\n",
       "      <td>nan</td>\n",
       "      <td>nan</td>\n",
       "    </tr>\n",
       "    <tr>\n",
       "      <th>max</th>\n",
       "      <td>4.00</td>\n",
       "      <td>2168253221.00</td>\n",
       "      <td>65535.00</td>\n",
       "      <td>2168253221.00</td>\n",
       "      <td>65535.00</td>\n",
       "      <td>176609.00</td>\n",
       "      <td>509200000.00</td>\n",
       "      <td>1.00</td>\n",
       "      <td>nan</td>\n",
       "      <td>nan</td>\n",
       "    </tr>\n",
       "  </tbody>\n",
       "</table>\n",
       "</div>"
      ],
      "text/plain": [
       "       ProtocolName  SrcIPAddress   SrcPort  DstIPAddress   DstPort   Packets  \\\n",
       "count     671241.00     671241.00 671241.00     671241.00 671241.00 671241.00   \n",
       "mean           1.05  157011895.87  22546.26  157891171.06  22280.27     24.01   \n",
       "std            0.30   86158949.59  23975.27   85830713.89  23942.46   1044.98   \n",
       "min            1.00    1000105.00      0.00    1000105.00      0.00      1.00   \n",
       "25%            1.00  100000000.00     22.00  100000000.00     22.00      5.00   \n",
       "50%            1.00  200000000.00   8000.00  200000000.00   8000.00      8.00   \n",
       "75%            1.00  200000000.00  49302.00  200000000.00  49075.00     19.00   \n",
       "max            4.00 2168253221.00  65535.00 2168253221.00  65535.00 176609.00   \n",
       "\n",
       "             Bytes       Tag  Unnamed: 8  Unnamed: 9  \n",
       "count    671241.00 671241.00        0.00        0.00  \n",
       "mean      20001.40      0.20         nan         nan  \n",
       "std     1950428.42      0.40         nan         nan  \n",
       "min          28.00      0.00         nan         nan  \n",
       "25%         264.00      0.00         nan         nan  \n",
       "50%        1326.00      0.00         nan         nan  \n",
       "75%        3004.00      0.00         nan         nan  \n",
       "max   509200000.00      1.00         nan         nan  "
      ]
     },
     "execution_count": 5,
     "metadata": {},
     "output_type": "execute_result"
    }
   ],
   "source": [
    "df.describe()"
   ]
  },
  {
   "cell_type": "code",
   "execution_count": 6,
   "id": "816ea6d7",
   "metadata": {},
   "outputs": [
    {
     "name": "stdout",
     "output_type": "stream",
     "text": [
      "<class 'pandas.core.frame.DataFrame'>\n",
      "RangeIndex: 671241 entries, 0 to 671240\n",
      "Data columns (total 11 columns):\n",
      " #   Column        Non-Null Count   Dtype  \n",
      "---  ------        --------------   -----  \n",
      " 0   ProtocolName  671241 non-null  int64  \n",
      " 1   SrcIPAddress  671241 non-null  int64  \n",
      " 2   SrcPort       671241 non-null  int64  \n",
      " 3   DstIPAddress  671241 non-null  int64  \n",
      " 4   DstPort       671241 non-null  float64\n",
      " 5   Packets       671241 non-null  int64  \n",
      " 6   Bytes         671241 non-null  int64  \n",
      " 7   Tag           671241 non-null  int64  \n",
      " 8   Unnamed: 8    0 non-null       float64\n",
      " 9   Unnamed: 9    0 non-null       float64\n",
      " 10  Unnamed: 10   2 non-null       object \n",
      "dtypes: float64(3), int64(7), object(1)\n",
      "memory usage: 56.3+ MB\n"
     ]
    }
   ],
   "source": [
    "df.info()"
   ]
  },
  {
   "cell_type": "markdown",
   "id": "6fd411c3",
   "metadata": {},
   "source": [
    "## Total percentage of data is missing"
   ]
  },
  {
   "cell_type": "code",
   "execution_count": 7,
   "id": "b60f9e60",
   "metadata": {},
   "outputs": [
    {
     "name": "stdout",
     "output_type": "stream",
     "text": [
      "27.272700185856564\n"
     ]
    }
   ],
   "source": [
    "missing_values_count = df.isnull().sum()\n",
    "\n",
    "total_cells = np.product(df.shape)\n",
    "\n",
    "total_missing = missing_values_count.sum()\n",
    "\n",
    "percentage_missing = (total_missing/total_cells)*100\n",
    "print(percentage_missing)"
   ]
  },
  {
   "cell_type": "code",
   "execution_count": 8,
   "id": "37daa93e",
   "metadata": {},
   "outputs": [
    {
     "name": "stdout",
     "output_type": "stream",
     "text": [
      "[1 3 2 4]\n",
      "[200000000 100000000 100000214 ... 398340124 398350183  39836041]\n",
      "[ 8082 56978 56979 ...   321 46216 30364]\n",
      "[100000000 200000000 100000214 ... 398340124 398350183  39836041]\n",
      "[56978.  8082. 56979. ...   321. 46216. 30364.]\n",
      "[  3057   4748   8639  12024  11012  14186   9974  16476  10178  14552\n",
      "  17031  24706  24161  34136  13266  20751      1     19     13     18\n",
      "      7     12     20     15      6     16     14     17      8      9\n",
      "      2      4      5     21     22     90     88     10     24     23\n",
      "     25     11      3     30     27    126    105    433    276     28\n",
      "     32    178    180     38    534   1061   1062   1133     37     34\n",
      "     43     33     36     31     26     29     35     70     68     67\n",
      "     64    123    133     98     95     87     93    100    110   1405\n",
      "   1730   3313   4678   1306   1533   1186   1434     76     66    144\n",
      "    151    109   9516  12846  11184  15805     49     50     48     51\n",
      "     44     45     42     39     79     69     78     56     77     80\n",
      "   8600  13999     62     54     97     86     85     84     83     73\n",
      "    138     65     63     60   6419   7266   5632   6358   3170   3730\n",
      "   2183   2669   3516   4985   6795   7877   8602   9659   1077   1748\n",
      "    202    218     41     55     40     72     52    129    130    135\n",
      "    432    339    246    278    608   1008    446    863    183    205\n",
      "    156    162     75    216    238     61     47     53     82     89\n",
      "    154    160    108    111    103    101     74     71    329    214\n",
      "    104    295    222     91    416    333    253     58     81     92\n",
      "    117     94    174    148    145    137    488    315    849    758\n",
      "    167    312    107    102    173    187     99   9544  14154  13850\n",
      "  19525   8644  13427  10375  15392  13019  19607  11542  17446   9406\n",
      "  15510  13362  20262    113    354    300    449    328     46    118\n",
      "    219    831   1142    195    396   1218   1708    288    371     57\n",
      "   1538    639   1258 105427 119128 105329 117904 102286 117382    182\n",
      "    159    119    350    208    116    112    114    199    198    270\n",
      "    271    582    149    121    400    321    236    131    359    115\n",
      "   9846  16979  12321  20465    125    387    233   5793   1558  11227\n",
      "  16206   8341  13876  11020   5693   9355    106   1783   2263   3256\n",
      "   4679   3930   5600   3082   4567   3375   3963   1101   1693  13185\n",
      "  19247   9694  15010  11650  18571  13176  19222    132    308    291\n",
      "   7584   4079    139     96    177    192    120  24973  31368  27884\n",
      "  38240    369    142   9207  14644   7184  10164    234    562    538\n",
      "  30306  44691  24524  39969  12371  22488   6214  11070    865    662\n",
      "    814   1087    252   1443   1002     59    200    164  14491  24454\n",
      "  11594  15421  15820  25631  18047  24771    311    122    242    181\n",
      "    161    301    212    395    420 130191 135547 132499 141210  27345\n",
      "  34534 133218 143662   5168   7842  12032  17180 128819 136486 160418\n",
      " 163054 169557 176609  48913  51663   7255  12229   4329   7634   3840\n",
      "   4317 176223 172110 169242 164041 169158 162611  36825  37992 161396\n",
      " 160681 172810 170412 148533 147538    309   3368   4968  11963  19113\n",
      "   4391   7841    392   8172  11737   5265   8815   7417  14025   5241\n",
      "   5977   4431   6536   4659   7953   6791   9808    124    275    442\n",
      "    390   4999   8129  13643  20860  13659  22268  10102  16222  11749\n",
      "  19155   3564   5668    268   3944   7326   6467  11500    141    317\n",
      "    431    240   7031  12276   7492  12524  12710  23505   8014  12444\n",
      "   6653  12809  16369  29978    255    232   9291   7746    190    188\n",
      "   6841   9819  10598  15279   8146  10600   7745  12486   2590   4401\n",
      "  16585  25482   7210  12272  20710  28710   6826  11530   4282   8406\n",
      "  37617  50239  45803  62423  35858  48267  27435  40652  26027  39039\n",
      "  31587  42902  27372  40767  18745  28750   3939   6301  10545  15367\n",
      "   9013  12216   9761  15285   8261  15354  10810  16152]\n",
      "[ 2100000  2500000  9100000 ...  4800000  8600000 14400000]\n",
      "[1 0]\n",
      "[nan]\n",
      "[nan]\n",
      "['1- ATTACK' '0-NORMAL' nan]\n"
     ]
    }
   ],
   "source": [
    "for i in df.columns:\n",
    "    print(df[i].unique())"
   ]
  },
  {
   "cell_type": "code",
   "execution_count": 9,
   "id": "55a80ae6",
   "metadata": {},
   "outputs": [
    {
     "data": {
      "text/plain": [
       "<AxesSubplot:>"
      ]
     },
     "execution_count": 9,
     "metadata": {},
     "output_type": "execute_result"
    },
    {
     "data": {
      "image/png": "[encoded data removed]",
      "text/plain": [
       "<Figure size 432x288 with 1 Axes>"
      ]
     },
     "metadata": {},
     "output_type": "display_data"
    }
   ],
   "source": [
    "df.Tag.value_counts().plot(kind=\"bar\", color=[\"red\", \"green\"])"
   ]
  },
  {
   "cell_type": "markdown",
   "id": "a9efcb3e",
   "metadata": {},
   "source": [
    "## Data Cleaning"
   ]
  },
  {
   "cell_type": "code",
   "execution_count": 10,
   "id": "22b164fc",
   "metadata": {},
   "outputs": [
    {
     "data": {
      "text/plain": [
       "ProtocolName         0\n",
       "SrcIPAddress         0\n",
       "SrcPort              0\n",
       "DstIPAddress         0\n",
       "DstPort              0\n",
       "Packets              0\n",
       "Bytes                0\n",
       "Tag                  0\n",
       "Unnamed: 8      671241\n",
       "Unnamed: 9      671241\n",
       "Unnamed: 10     671239\n",
       "dtype: int64"
      ]
     },
     "execution_count": 10,
     "metadata": {},
     "output_type": "execute_result"
    }
   ],
   "source": [
    "df.isna().sum()"
   ]
  },
  {
   "cell_type": "code",
   "execution_count": 11,
   "id": "f8ff6c08",
   "metadata": {},
   "outputs": [
    {
     "data": {
      "text/html": [
       "<div>\n",
       "<style scoped>\n",
       "    .dataframe tbody tr th:only-of-type {\n",
       "        vertical-align: middle;\n",
       "    }\n",
       "\n",
       "    .dataframe tbody tr th {\n",
       "        vertical-align: top;\n",
       "    }\n",
       "\n",
       "    .dataframe thead th {\n",
       "        text-align: right;\n",
       "    }\n",
       "</style>\n",
       "<table border=\"1\" class=\"dataframe\">\n",
       "  <thead>\n",
       "    <tr style=\"text-align: right;\">\n",
       "      <th></th>\n",
       "      <th>column_name</th>\n",
       "      <th>percentage</th>\n",
       "    </tr>\n",
       "  </thead>\n",
       "  <tbody>\n",
       "    <tr>\n",
       "      <th>0</th>\n",
       "      <td>ProtocolName</td>\n",
       "      <td>0.00</td>\n",
       "    </tr>\n",
       "    <tr>\n",
       "      <th>1</th>\n",
       "      <td>SrcIPAddress</td>\n",
       "      <td>0.00</td>\n",
       "    </tr>\n",
       "    <tr>\n",
       "      <th>2</th>\n",
       "      <td>SrcPort</td>\n",
       "      <td>0.00</td>\n",
       "    </tr>\n",
       "    <tr>\n",
       "      <th>3</th>\n",
       "      <td>DstIPAddress</td>\n",
       "      <td>0.00</td>\n",
       "    </tr>\n",
       "    <tr>\n",
       "      <th>4</th>\n",
       "      <td>DstPort</td>\n",
       "      <td>0.00</td>\n",
       "    </tr>\n",
       "    <tr>\n",
       "      <th>5</th>\n",
       "      <td>Packets</td>\n",
       "      <td>0.00</td>\n",
       "    </tr>\n",
       "    <tr>\n",
       "      <th>6</th>\n",
       "      <td>Bytes</td>\n",
       "      <td>0.00</td>\n",
       "    </tr>\n",
       "    <tr>\n",
       "      <th>7</th>\n",
       "      <td>Tag</td>\n",
       "      <td>0.00</td>\n",
       "    </tr>\n",
       "    <tr>\n",
       "      <th>8</th>\n",
       "      <td>Unnamed: 8</td>\n",
       "      <td>100.00</td>\n",
       "    </tr>\n",
       "    <tr>\n",
       "      <th>9</th>\n",
       "      <td>Unnamed: 9</td>\n",
       "      <td>100.00</td>\n",
       "    </tr>\n",
       "    <tr>\n",
       "      <th>10</th>\n",
       "      <td>Unnamed: 10</td>\n",
       "      <td>100.00</td>\n",
       "    </tr>\n",
       "  </tbody>\n",
       "</table>\n",
       "</div>"
      ],
      "text/plain": [
       "     column_name  percentage\n",
       "0   ProtocolName        0.00\n",
       "1   SrcIPAddress        0.00\n",
       "2        SrcPort        0.00\n",
       "3   DstIPAddress        0.00\n",
       "4        DstPort        0.00\n",
       "5        Packets        0.00\n",
       "6          Bytes        0.00\n",
       "7            Tag        0.00\n",
       "8     Unnamed: 8      100.00\n",
       "9     Unnamed: 9      100.00\n",
       "10   Unnamed: 10      100.00"
      ]
     },
     "execution_count": 11,
     "metadata": {},
     "output_type": "execute_result"
    }
   ],
   "source": [
    "NAN = [(c, df[c].isnull().mean()*100) for c in df]\n",
    "NAN = pd.DataFrame(NAN, columns=['column_name', 'percentage'])\n",
    "NAN"
   ]
  },
  {
   "cell_type": "code",
   "execution_count": 12,
   "id": "de67b927",
   "metadata": {},
   "outputs": [],
   "source": [
    "df = df.drop(['Unnamed: 8','Unnamed: 9', 'Unnamed: 10'], axis=1)"
   ]
  },
  {
   "cell_type": "code",
   "execution_count": 13,
   "id": "43a11d80",
   "metadata": {},
   "outputs": [
    {
     "data": {
      "text/html": [
       "<div>\n",
       "<style scoped>\n",
       "    .dataframe tbody tr th:only-of-type {\n",
       "        vertical-align: middle;\n",
       "    }\n",
       "\n",
       "    .dataframe tbody tr th {\n",
       "        vertical-align: top;\n",
       "    }\n",
       "\n",
       "    .dataframe thead th {\n",
       "        text-align: right;\n",
       "    }\n",
       "</style>\n",
       "<table border=\"1\" class=\"dataframe\">\n",
       "  <thead>\n",
       "    <tr style=\"text-align: right;\">\n",
       "      <th></th>\n",
       "      <th>ProtocolName</th>\n",
       "      <th>SrcIPAddress</th>\n",
       "      <th>SrcPort</th>\n",
       "      <th>DstIPAddress</th>\n",
       "      <th>DstPort</th>\n",
       "      <th>Packets</th>\n",
       "      <th>Bytes</th>\n",
       "      <th>Tag</th>\n",
       "    </tr>\n",
       "  </thead>\n",
       "  <tbody>\n",
       "    <tr>\n",
       "      <th>0</th>\n",
       "      <td>1</td>\n",
       "      <td>200000000</td>\n",
       "      <td>8082</td>\n",
       "      <td>100000000</td>\n",
       "      <td>56978.00</td>\n",
       "      <td>3057</td>\n",
       "      <td>2100000</td>\n",
       "      <td>1</td>\n",
       "    </tr>\n",
       "    <tr>\n",
       "      <th>1</th>\n",
       "      <td>1</td>\n",
       "      <td>100000000</td>\n",
       "      <td>56978</td>\n",
       "      <td>200000000</td>\n",
       "      <td>8082.00</td>\n",
       "      <td>4748</td>\n",
       "      <td>2500000</td>\n",
       "      <td>1</td>\n",
       "    </tr>\n",
       "    <tr>\n",
       "      <th>2</th>\n",
       "      <td>1</td>\n",
       "      <td>200000000</td>\n",
       "      <td>8082</td>\n",
       "      <td>100000000</td>\n",
       "      <td>56979.00</td>\n",
       "      <td>8639</td>\n",
       "      <td>9100000</td>\n",
       "      <td>1</td>\n",
       "    </tr>\n",
       "    <tr>\n",
       "      <th>3</th>\n",
       "      <td>1</td>\n",
       "      <td>100000000</td>\n",
       "      <td>56979</td>\n",
       "      <td>200000000</td>\n",
       "      <td>8082.00</td>\n",
       "      <td>12024</td>\n",
       "      <td>10300000</td>\n",
       "      <td>1</td>\n",
       "    </tr>\n",
       "    <tr>\n",
       "      <th>4</th>\n",
       "      <td>1</td>\n",
       "      <td>200000000</td>\n",
       "      <td>8082</td>\n",
       "      <td>100000000</td>\n",
       "      <td>51649.00</td>\n",
       "      <td>11012</td>\n",
       "      <td>27200000</td>\n",
       "      <td>1</td>\n",
       "    </tr>\n",
       "  </tbody>\n",
       "</table>\n",
       "</div>"
      ],
      "text/plain": [
       "   ProtocolName  SrcIPAddress  SrcPort  DstIPAddress  DstPort  Packets  \\\n",
       "0             1     200000000     8082     100000000 56978.00     3057   \n",
       "1             1     100000000    56978     200000000  8082.00     4748   \n",
       "2             1     200000000     8082     100000000 56979.00     8639   \n",
       "3             1     100000000    56979     200000000  8082.00    12024   \n",
       "4             1     200000000     8082     100000000 51649.00    11012   \n",
       "\n",
       "      Bytes  Tag  \n",
       "0   2100000    1  \n",
       "1   2500000    1  \n",
       "2   9100000    1  \n",
       "3  10300000    1  \n",
       "4  27200000    1  "
      ]
     },
     "execution_count": 13,
     "metadata": {},
     "output_type": "execute_result"
    }
   ],
   "source": [
    "df.head()"
   ]
  },
  {
   "cell_type": "code",
   "execution_count": 14,
   "id": "3e81897c",
   "metadata": {},
   "outputs": [
    {
     "data": {
      "text/plain": [
       "ProtocolName    0\n",
       "SrcIPAddress    0\n",
       "SrcPort         0\n",
       "DstIPAddress    0\n",
       "DstPort         0\n",
       "Packets         0\n",
       "Bytes           0\n",
       "Tag             0\n",
       "dtype: int64"
      ]
     },
     "execution_count": 14,
     "metadata": {},
     "output_type": "execute_result"
    }
   ],
   "source": [
    "df.isna().sum()"
   ]
  },
  {
   "cell_type": "markdown",
   "id": "bd9d8e6f",
   "metadata": {},
   "source": [
    "## show a few features with their Mutual Info scores"
   ]
  },
  {
   "cell_type": "code",
   "execution_count": 15,
   "id": "a09d1176",
   "metadata": {},
   "outputs": [],
   "source": [
    "from sklearn.ensemble import RandomForestRegressor"
   ]
  },
  {
   "cell_type": "code",
   "execution_count": 16,
   "id": "64856c30",
   "metadata": {},
   "outputs": [],
   "source": [
    "x = df.copy()\n",
    "y = x.pop('Tag')"
   ]
  },
  {
   "cell_type": "code",
   "execution_count": 17,
   "id": "d197e08a",
   "metadata": {},
   "outputs": [],
   "source": [
    "for colname in x.select_dtypes('object'):\n",
    "    x[colname],_ = x[colname].factorize()\n",
    "    \n",
    "discrete_features = x.dtypes ==int"
   ]
  },
  {
   "cell_type": "code",
   "execution_count": 18,
   "id": "a7f1f4bc",
   "metadata": {},
   "outputs": [
    {
     "data": {
      "text/plain": [
       "Bytes          0.49\n",
       "Packets        0.38\n",
       "SrcPort        0.32\n",
       "DstPort        0.32\n",
       "SrcIPAddress   0.25\n",
       "DstIPAddress   0.25\n",
       "ProtocolName   0.01\n",
       "Name: MI Scores, dtype: float64"
      ]
     },
     "execution_count": 18,
     "metadata": {},
     "output_type": "execute_result"
    }
   ],
   "source": [
    "from sklearn.feature_selection import mutual_info_regression\n",
    "\n",
    "def make_mi_scores(x, y, discrete_features):\n",
    "    mi_scores = mutual_info_regression(x, y, discrete_features=discrete_features)\n",
    "    mi_scores = pd.Series(mi_scores, name=\"MI Scores\", index=x.columns)\n",
    "    mi_scores = mi_scores.sort_values(ascending=False)\n",
    "    return mi_scores\n",
    "\n",
    "mi_scores = make_mi_scores(x, y, discrete_features)\n",
    "mi_scores[::1]"
   ]
  },
  {
   "cell_type": "markdown",
   "id": "ab3fc901",
   "metadata": {},
   "source": [
    "## Data Visualization With most Dependent Features"
   ]
  },
  {
   "cell_type": "code",
   "execution_count": 19,
   "id": "13e0a522",
   "metadata": {},
   "outputs": [
    {
     "data": {
      "image/png": "[encoded data removed]",
      "text/plain": [
       "<Figure size 800x400 with 1 Axes>"
      ]
     },
     "metadata": {},
     "output_type": "display_data"
    }
   ],
   "source": [
    "def plot_mi_scores(scores):\n",
    "    scores = scores.sort_values(ascending=True)\n",
    "    width = np.arange(len(scores))\n",
    "    ticks = list(scores.index)\n",
    "    plt.barh(width, scores)\n",
    "    plt.yticks(width, ticks)\n",
    "    plt.title(\"Mutual Information Scores\")\n",
    "\n",
    "\n",
    "plt.figure(dpi=100, figsize=(8, 4))\n",
    "plot_mi_scores(mi_scores)"
   ]
  },
  {
   "cell_type": "markdown",
   "id": "56506d78",
   "metadata": {},
   "source": [
    "#### Multivariate Analysis"
   ]
  },
  {
   "cell_type": "code",
   "execution_count": 20,
   "id": "cc68d3db",
   "metadata": {},
   "outputs": [
    {
     "data": {
      "image/png": "[encoded data removed]",
      "text/plain": [
       "<Figure size 1440x1440 with 8 Axes>"
      ]
     },
     "metadata": {},
     "output_type": "display_data"
    }
   ],
   "source": [
    "def draw_histograms(dataframe, features, rows, cols):\n",
    "    fig=plt.figure(figsize=(20,20))\n",
    "    for i, feature in enumerate(features):\n",
    "        ax=fig.add_subplot(rows,cols,i+1)\n",
    "        dataframe[feature].hist(bins=20,ax=ax,facecolor='green')\n",
    "        ax.set_title(feature+\" Distribution\",color='Red')\n",
    "        \n",
    "    fig.tight_layout()  \n",
    "    plt.show()\n",
    "draw_histograms(df,df.columns,4,4)"
   ]
  },
  {
   "cell_type": "code",
   "execution_count": 21,
   "id": "e2607e92",
   "metadata": {},
   "outputs": [
    {
     "data": {
      "text/html": [
       "<style  type=\"text/css\" >\n",
       "    #T_aca2266f_2085_11ec_a1ba_e0d4e8a64de7row0_col0 {\n",
       "            background-color:  #b40426;\n",
       "            color:  #f1f1f1;\n",
       "        }    #T_aca2266f_2085_11ec_a1ba_e0d4e8a64de7row0_col1 {\n",
       "            background-color:  #80a3fa;\n",
       "            color:  #000000;\n",
       "        }    #T_aca2266f_2085_11ec_a1ba_e0d4e8a64de7row0_col2 {\n",
       "            background-color:  #bed2f6;\n",
       "            color:  #000000;\n",
       "        }    #T_aca2266f_2085_11ec_a1ba_e0d4e8a64de7row0_col3 {\n",
       "            background-color:  #97b8ff;\n",
       "            color:  #000000;\n",
       "        }    #T_aca2266f_2085_11ec_a1ba_e0d4e8a64de7row0_col4 {\n",
       "            background-color:  #afcafc;\n",
       "            color:  #000000;\n",
       "        }    #T_aca2266f_2085_11ec_a1ba_e0d4e8a64de7row0_col5 {\n",
       "            background-color:  #3b4cc0;\n",
       "            color:  #f1f1f1;\n",
       "        }    #T_aca2266f_2085_11ec_a1ba_e0d4e8a64de7row0_col6 {\n",
       "            background-color:  #3b4cc0;\n",
       "            color:  #f1f1f1;\n",
       "        }    #T_aca2266f_2085_11ec_a1ba_e0d4e8a64de7row0_col7 {\n",
       "            background-color:  #3b4cc0;\n",
       "            color:  #f1f1f1;\n",
       "        }    #T_aca2266f_2085_11ec_a1ba_e0d4e8a64de7row1_col0 {\n",
       "            background-color:  #3e51c5;\n",
       "            color:  #f1f1f1;\n",
       "        }    #T_aca2266f_2085_11ec_a1ba_e0d4e8a64de7row1_col1 {\n",
       "            background-color:  #b40426;\n",
       "            color:  #f1f1f1;\n",
       "        }    #T_aca2266f_2085_11ec_a1ba_e0d4e8a64de7row1_col2 {\n",
       "            background-color:  #7597f6;\n",
       "            color:  #000000;\n",
       "        }    #T_aca2266f_2085_11ec_a1ba_e0d4e8a64de7row1_col3 {\n",
       "            background-color:  #536edd;\n",
       "            color:  #000000;\n",
       "        }    #T_aca2266f_2085_11ec_a1ba_e0d4e8a64de7row1_col4 {\n",
       "            background-color:  #f5c0a7;\n",
       "            color:  #000000;\n",
       "        }    #T_aca2266f_2085_11ec_a1ba_e0d4e8a64de7row1_col5 {\n",
       "            background-color:  #3b4cc0;\n",
       "            color:  #f1f1f1;\n",
       "        }    #T_aca2266f_2085_11ec_a1ba_e0d4e8a64de7row1_col6 {\n",
       "            background-color:  #3d50c3;\n",
       "            color:  #f1f1f1;\n",
       "        }    #T_aca2266f_2085_11ec_a1ba_e0d4e8a64de7row1_col7 {\n",
       "            background-color:  #465ecf;\n",
       "            color:  #f1f1f1;\n",
       "        }    #T_aca2266f_2085_11ec_a1ba_e0d4e8a64de7row2_col0 {\n",
       "            background-color:  #506bda;\n",
       "            color:  #000000;\n",
       "        }    #T_aca2266f_2085_11ec_a1ba_e0d4e8a64de7row2_col1 {\n",
       "            background-color:  #3b4cc0;\n",
       "            color:  #f1f1f1;\n",
       "        }    #T_aca2266f_2085_11ec_a1ba_e0d4e8a64de7row2_col2 {\n",
       "            background-color:  #b40426;\n",
       "            color:  #f1f1f1;\n",
       "        }    #T_aca2266f_2085_11ec_a1ba_e0d4e8a64de7row2_col3 {\n",
       "            background-color:  #ebd3c6;\n",
       "            color:  #000000;\n",
       "        }    #T_aca2266f_2085_11ec_a1ba_e0d4e8a64de7row2_col4 {\n",
       "            background-color:  #3b4cc0;\n",
       "            color:  #f1f1f1;\n",
       "        }    #T_aca2266f_2085_11ec_a1ba_e0d4e8a64de7row2_col5 {\n",
       "            background-color:  #3c4ec2;\n",
       "            color:  #f1f1f1;\n",
       "        }    #T_aca2266f_2085_11ec_a1ba_e0d4e8a64de7row2_col6 {\n",
       "            background-color:  #3b4cc0;\n",
       "            color:  #f1f1f1;\n",
       "        }    #T_aca2266f_2085_11ec_a1ba_e0d4e8a64de7row2_col7 {\n",
       "            background-color:  #93b5fe;\n",
       "            color:  #000000;\n",
       "        }    #T_aca2266f_2085_11ec_a1ba_e0d4e8a64de7row3_col0 {\n",
       "            background-color:  #5a78e4;\n",
       "            color:  #000000;\n",
       "        }    #T_aca2266f_2085_11ec_a1ba_e0d4e8a64de7row3_col1 {\n",
       "            background-color:  #5470de;\n",
       "            color:  #000000;\n",
       "        }    #T_aca2266f_2085_11ec_a1ba_e0d4e8a64de7row3_col2 {\n",
       "            background-color:  #f6bfa6;\n",
       "            color:  #000000;\n",
       "        }    #T_aca2266f_2085_11ec_a1ba_e0d4e8a64de7row3_col3 {\n",
       "            background-color:  #b40426;\n",
       "            color:  #f1f1f1;\n",
       "        }    #T_aca2266f_2085_11ec_a1ba_e0d4e8a64de7row3_col4 {\n",
       "            background-color:  #7699f6;\n",
       "            color:  #000000;\n",
       "        }    #T_aca2266f_2085_11ec_a1ba_e0d4e8a64de7row3_col5 {\n",
       "            background-color:  #3b4cc0;\n",
       "            color:  #f1f1f1;\n",
       "        }    #T_aca2266f_2085_11ec_a1ba_e0d4e8a64de7row3_col6 {\n",
       "            background-color:  #3b4cc0;\n",
       "            color:  #f1f1f1;\n",
       "        }    #T_aca2266f_2085_11ec_a1ba_e0d4e8a64de7row3_col7 {\n",
       "            background-color:  #455cce;\n",
       "            color:  #f1f1f1;\n",
       "        }    #T_aca2266f_2085_11ec_a1ba_e0d4e8a64de7row4_col0 {\n",
       "            background-color:  #3c4ec2;\n",
       "            color:  #f1f1f1;\n",
       "        }    #T_aca2266f_2085_11ec_a1ba_e0d4e8a64de7row4_col1 {\n",
       "            background-color:  #ebd3c6;\n",
       "            color:  #000000;\n",
       "        }    #T_aca2266f_2085_11ec_a1ba_e0d4e8a64de7row4_col2 {\n",
       "            background-color:  #3b4cc0;\n",
       "            color:  #f1f1f1;\n",
       "        }    #T_aca2266f_2085_11ec_a1ba_e0d4e8a64de7row4_col3 {\n",
       "            background-color:  #3b4cc0;\n",
       "            color:  #f1f1f1;\n",
       "        }    #T_aca2266f_2085_11ec_a1ba_e0d4e8a64de7row4_col4 {\n",
       "            background-color:  #b40426;\n",
       "            color:  #f1f1f1;\n",
       "        }    #T_aca2266f_2085_11ec_a1ba_e0d4e8a64de7row4_col5 {\n",
       "            background-color:  #3c4ec2;\n",
       "            color:  #f1f1f1;\n",
       "        }    #T_aca2266f_2085_11ec_a1ba_e0d4e8a64de7row4_col6 {\n",
       "            background-color:  #3d50c3;\n",
       "            color:  #f1f1f1;\n",
       "        }    #T_aca2266f_2085_11ec_a1ba_e0d4e8a64de7row4_col7 {\n",
       "            background-color:  #94b6ff;\n",
       "            color:  #000000;\n",
       "        }    #T_aca2266f_2085_11ec_a1ba_e0d4e8a64de7row5_col0 {\n",
       "            background-color:  #516ddb;\n",
       "            color:  #000000;\n",
       "        }    #T_aca2266f_2085_11ec_a1ba_e0d4e8a64de7row5_col1 {\n",
       "            background-color:  #92b4fe;\n",
       "            color:  #000000;\n",
       "        }    #T_aca2266f_2085_11ec_a1ba_e0d4e8a64de7row5_col2 {\n",
       "            background-color:  #c0d4f5;\n",
       "            color:  #000000;\n",
       "        }    #T_aca2266f_2085_11ec_a1ba_e0d4e8a64de7row5_col3 {\n",
       "            background-color:  #90b2fe;\n",
       "            color:  #000000;\n",
       "        }    #T_aca2266f_2085_11ec_a1ba_e0d4e8a64de7row5_col4 {\n",
       "            background-color:  #c0d4f5;\n",
       "            color:  #000000;\n",
       "        }    #T_aca2266f_2085_11ec_a1ba_e0d4e8a64de7row5_col5 {\n",
       "            background-color:  #b40426;\n",
       "            color:  #f1f1f1;\n",
       "        }    #T_aca2266f_2085_11ec_a1ba_e0d4e8a64de7row5_col6 {\n",
       "            background-color:  #f5a081;\n",
       "            color:  #000000;\n",
       "        }    #T_aca2266f_2085_11ec_a1ba_e0d4e8a64de7row5_col7 {\n",
       "            background-color:  #5875e1;\n",
       "            color:  #000000;\n",
       "        }    #T_aca2266f_2085_11ec_a1ba_e0d4e8a64de7row6_col0 {\n",
       "            background-color:  #516ddb;\n",
       "            color:  #000000;\n",
       "        }    #T_aca2266f_2085_11ec_a1ba_e0d4e8a64de7row6_col1 {\n",
       "            background-color:  #93b5fe;\n",
       "            color:  #000000;\n",
       "        }    #T_aca2266f_2085_11ec_a1ba_e0d4e8a64de7row6_col2 {\n",
       "            background-color:  #bfd3f6;\n",
       "            color:  #000000;\n",
       "        }    #T_aca2266f_2085_11ec_a1ba_e0d4e8a64de7row6_col3 {\n",
       "            background-color:  #90b2fe;\n",
       "            color:  #000000;\n",
       "        }    #T_aca2266f_2085_11ec_a1ba_e0d4e8a64de7row6_col4 {\n",
       "            background-color:  #c0d4f5;\n",
       "            color:  #000000;\n",
       "        }    #T_aca2266f_2085_11ec_a1ba_e0d4e8a64de7row6_col5 {\n",
       "            background-color:  #f5a081;\n",
       "            color:  #000000;\n",
       "        }    #T_aca2266f_2085_11ec_a1ba_e0d4e8a64de7row6_col6 {\n",
       "            background-color:  #b40426;\n",
       "            color:  #f1f1f1;\n",
       "        }    #T_aca2266f_2085_11ec_a1ba_e0d4e8a64de7row6_col7 {\n",
       "            background-color:  #5673e0;\n",
       "            color:  #000000;\n",
       "        }    #T_aca2266f_2085_11ec_a1ba_e0d4e8a64de7row7_col0 {\n",
       "            background-color:  #3b4cc0;\n",
       "            color:  #f1f1f1;\n",
       "        }    #T_aca2266f_2085_11ec_a1ba_e0d4e8a64de7row7_col1 {\n",
       "            background-color:  #86a9fc;\n",
       "            color:  #000000;\n",
       "        }    #T_aca2266f_2085_11ec_a1ba_e0d4e8a64de7row7_col2 {\n",
       "            background-color:  #e2dad5;\n",
       "            color:  #000000;\n",
       "        }    #T_aca2266f_2085_11ec_a1ba_e0d4e8a64de7row7_col3 {\n",
       "            background-color:  #85a8fc;\n",
       "            color:  #000000;\n",
       "        }    #T_aca2266f_2085_11ec_a1ba_e0d4e8a64de7row7_col4 {\n",
       "            background-color:  #e3d9d3;\n",
       "            color:  #000000;\n",
       "        }    #T_aca2266f_2085_11ec_a1ba_e0d4e8a64de7row7_col5 {\n",
       "            background-color:  #4055c8;\n",
       "            color:  #f1f1f1;\n",
       "        }    #T_aca2266f_2085_11ec_a1ba_e0d4e8a64de7row7_col6 {\n",
       "            background-color:  #3f53c6;\n",
       "            color:  #f1f1f1;\n",
       "        }    #T_aca2266f_2085_11ec_a1ba_e0d4e8a64de7row7_col7 {\n",
       "            background-color:  #b40426;\n",
       "            color:  #f1f1f1;\n",
       "        }</style><table id=\"T_aca2266f_2085_11ec_a1ba_e0d4e8a64de7\" ><thead>    <tr>        <th class=\"blank level0\" ></th>        <th class=\"col_heading level0 col0\" >ProtocolName</th>        <th class=\"col_heading level0 col1\" >SrcIPAddress</th>        <th class=\"col_heading level0 col2\" >SrcPort</th>        <th class=\"col_heading level0 col3\" >DstIPAddress</th>        <th class=\"col_heading level0 col4\" >DstPort</th>        <th class=\"col_heading level0 col5\" >Packets</th>        <th class=\"col_heading level0 col6\" >Bytes</th>        <th class=\"col_heading level0 col7\" >Tag</th>    </tr></thead><tbody>\n",
       "                <tr>\n",
       "                        <th id=\"T_aca2266f_2085_11ec_a1ba_e0d4e8a64de7level0_row0\" class=\"row_heading level0 row0\" >ProtocolName</th>\n",
       "                        <td id=\"T_aca2266f_2085_11ec_a1ba_e0d4e8a64de7row0_col0\" class=\"data row0 col0\" >1.000000</td>\n",
       "                        <td id=\"T_aca2266f_2085_11ec_a1ba_e0d4e8a64de7row0_col1\" class=\"data row0 col1\" >-0.070458</td>\n",
       "                        <td id=\"T_aca2266f_2085_11ec_a1ba_e0d4e8a64de7row0_col2\" class=\"data row0 col2\" >-0.005891</td>\n",
       "                        <td id=\"T_aca2266f_2085_11ec_a1ba_e0d4e8a64de7row0_col3\" class=\"data row0 col3\" >0.025682</td>\n",
       "                        <td id=\"T_aca2266f_2085_11ec_a1ba_e0d4e8a64de7row0_col4\" class=\"data row0 col4\" >-0.078128</td>\n",
       "                        <td id=\"T_aca2266f_2085_11ec_a1ba_e0d4e8a64de7row0_col5\" class=\"data row0 col5\" >-0.003662</td>\n",
       "                        <td id=\"T_aca2266f_2085_11ec_a1ba_e0d4e8a64de7row0_col6\" class=\"data row0 col6\" >-0.001719</td>\n",
       "                        <td id=\"T_aca2266f_2085_11ec_a1ba_e0d4e8a64de7row0_col7\" class=\"data row0 col7\" >-0.084743</td>\n",
       "            </tr>\n",
       "            <tr>\n",
       "                        <th id=\"T_aca2266f_2085_11ec_a1ba_e0d4e8a64de7level0_row1\" class=\"row_heading level0 row1\" >SrcIPAddress</th>\n",
       "                        <td id=\"T_aca2266f_2085_11ec_a1ba_e0d4e8a64de7row1_col0\" class=\"data row1 col0\" >-0.070458</td>\n",
       "                        <td id=\"T_aca2266f_2085_11ec_a1ba_e0d4e8a64de7row1_col1\" class=\"data row1 col1\" >1.000000</td>\n",
       "                        <td id=\"T_aca2266f_2085_11ec_a1ba_e0d4e8a64de7row1_col2\" class=\"data row1 col2\" >-0.357432</td>\n",
       "                        <td id=\"T_aca2266f_2085_11ec_a1ba_e0d4e8a64de7row1_col3\" class=\"data row1 col3\" >-0.244782</td>\n",
       "                        <td id=\"T_aca2266f_2085_11ec_a1ba_e0d4e8a64de7row1_col4\" class=\"data row1 col4\" >0.400921</td>\n",
       "                        <td id=\"T_aca2266f_2085_11ec_a1ba_e0d4e8a64de7row1_col5\" class=\"data row1 col5\" >-0.000261</td>\n",
       "                        <td id=\"T_aca2266f_2085_11ec_a1ba_e0d4e8a64de7row1_col6\" class=\"data row1 col6\" >0.006032</td>\n",
       "                        <td id=\"T_aca2266f_2085_11ec_a1ba_e0d4e8a64de7row1_col7\" class=\"data row1 col7\" >-0.040690</td>\n",
       "            </tr>\n",
       "            <tr>\n",
       "                        <th id=\"T_aca2266f_2085_11ec_a1ba_e0d4e8a64de7level0_row2\" class=\"row_heading level0 row2\" >SrcPort</th>\n",
       "                        <td id=\"T_aca2266f_2085_11ec_a1ba_e0d4e8a64de7row2_col0\" class=\"data row2 col0\" >-0.005891</td>\n",
       "                        <td id=\"T_aca2266f_2085_11ec_a1ba_e0d4e8a64de7row2_col1\" class=\"data row2 col1\" >-0.357432</td>\n",
       "                        <td id=\"T_aca2266f_2085_11ec_a1ba_e0d4e8a64de7row2_col2\" class=\"data row2 col2\" >1.000000</td>\n",
       "                        <td id=\"T_aca2266f_2085_11ec_a1ba_e0d4e8a64de7row2_col3\" class=\"data row2 col3\" >0.405272</td>\n",
       "                        <td id=\"T_aca2266f_2085_11ec_a1ba_e0d4e8a64de7row2_col4\" class=\"data row2 col4\" >-0.660333</td>\n",
       "                        <td id=\"T_aca2266f_2085_11ec_a1ba_e0d4e8a64de7row2_col5\" class=\"data row2 col5\" >0.002924</td>\n",
       "                        <td id=\"T_aca2266f_2085_11ec_a1ba_e0d4e8a64de7row2_col6\" class=\"data row2 col6\" >-0.000495</td>\n",
       "                        <td id=\"T_aca2266f_2085_11ec_a1ba_e0d4e8a64de7row2_col7\" class=\"data row2 col7\" >0.205104</td>\n",
       "            </tr>\n",
       "            <tr>\n",
       "                        <th id=\"T_aca2266f_2085_11ec_a1ba_e0d4e8a64de7level0_row3\" class=\"row_heading level0 row3\" >DstIPAddress</th>\n",
       "                        <td id=\"T_aca2266f_2085_11ec_a1ba_e0d4e8a64de7row3_col0\" class=\"data row3 col0\" >0.025682</td>\n",
       "                        <td id=\"T_aca2266f_2085_11ec_a1ba_e0d4e8a64de7row3_col1\" class=\"data row3 col1\" >-0.244782</td>\n",
       "                        <td id=\"T_aca2266f_2085_11ec_a1ba_e0d4e8a64de7row3_col2\" class=\"data row3 col2\" >0.405272</td>\n",
       "                        <td id=\"T_aca2266f_2085_11ec_a1ba_e0d4e8a64de7row3_col3\" class=\"data row3 col3\" >1.000000</td>\n",
       "                        <td id=\"T_aca2266f_2085_11ec_a1ba_e0d4e8a64de7row3_col4\" class=\"data row3 col4\" >-0.353446</td>\n",
       "                        <td id=\"T_aca2266f_2085_11ec_a1ba_e0d4e8a64de7row3_col5\" class=\"data row3 col5\" >-0.000335</td>\n",
       "                        <td id=\"T_aca2266f_2085_11ec_a1ba_e0d4e8a64de7row3_col6\" class=\"data row3 col6\" >-0.003133</td>\n",
       "                        <td id=\"T_aca2266f_2085_11ec_a1ba_e0d4e8a64de7row3_col7\" class=\"data row3 col7\" >-0.045968</td>\n",
       "            </tr>\n",
       "            <tr>\n",
       "                        <th id=\"T_aca2266f_2085_11ec_a1ba_e0d4e8a64de7level0_row4\" class=\"row_heading level0 row4\" >DstPort</th>\n",
       "                        <td id=\"T_aca2266f_2085_11ec_a1ba_e0d4e8a64de7row4_col0\" class=\"data row4 col0\" >-0.078128</td>\n",
       "                        <td id=\"T_aca2266f_2085_11ec_a1ba_e0d4e8a64de7row4_col1\" class=\"data row4 col1\" >0.400921</td>\n",
       "                        <td id=\"T_aca2266f_2085_11ec_a1ba_e0d4e8a64de7row4_col2\" class=\"data row4 col2\" >-0.660333</td>\n",
       "                        <td id=\"T_aca2266f_2085_11ec_a1ba_e0d4e8a64de7row4_col3\" class=\"data row4 col3\" >-0.353446</td>\n",
       "                        <td id=\"T_aca2266f_2085_11ec_a1ba_e0d4e8a64de7row4_col4\" class=\"data row4 col4\" >1.000000</td>\n",
       "                        <td id=\"T_aca2266f_2085_11ec_a1ba_e0d4e8a64de7row4_col5\" class=\"data row4 col5\" >0.002915</td>\n",
       "                        <td id=\"T_aca2266f_2085_11ec_a1ba_e0d4e8a64de7row4_col6\" class=\"data row4 col6\" >0.005459</td>\n",
       "                        <td id=\"T_aca2266f_2085_11ec_a1ba_e0d4e8a64de7row4_col7\" class=\"data row4 col7\" >0.210946</td>\n",
       "            </tr>\n",
       "            <tr>\n",
       "                        <th id=\"T_aca2266f_2085_11ec_a1ba_e0d4e8a64de7level0_row5\" class=\"row_heading level0 row5\" >Packets</th>\n",
       "                        <td id=\"T_aca2266f_2085_11ec_a1ba_e0d4e8a64de7row5_col0\" class=\"data row5 col0\" >-0.003662</td>\n",
       "                        <td id=\"T_aca2266f_2085_11ec_a1ba_e0d4e8a64de7row5_col1\" class=\"data row5 col1\" >-0.000261</td>\n",
       "                        <td id=\"T_aca2266f_2085_11ec_a1ba_e0d4e8a64de7row5_col2\" class=\"data row5 col2\" >0.002924</td>\n",
       "                        <td id=\"T_aca2266f_2085_11ec_a1ba_e0d4e8a64de7row5_col3\" class=\"data row5 col3\" >-0.000335</td>\n",
       "                        <td id=\"T_aca2266f_2085_11ec_a1ba_e0d4e8a64de7row5_col4\" class=\"data row5 col4\" >0.002915</td>\n",
       "                        <td id=\"T_aca2266f_2085_11ec_a1ba_e0d4e8a64de7row5_col5\" class=\"data row5 col5\" >1.000000</td>\n",
       "                        <td id=\"T_aca2266f_2085_11ec_a1ba_e0d4e8a64de7row5_col6\" class=\"data row5 col6\" >0.731802</td>\n",
       "                        <td id=\"T_aca2266f_2085_11ec_a1ba_e0d4e8a64de7row5_col7\" class=\"data row5 col7\" >0.018918</td>\n",
       "            </tr>\n",
       "            <tr>\n",
       "                        <th id=\"T_aca2266f_2085_11ec_a1ba_e0d4e8a64de7level0_row6\" class=\"row_heading level0 row6\" >Bytes</th>\n",
       "                        <td id=\"T_aca2266f_2085_11ec_a1ba_e0d4e8a64de7row6_col0\" class=\"data row6 col0\" >-0.001719</td>\n",
       "                        <td id=\"T_aca2266f_2085_11ec_a1ba_e0d4e8a64de7row6_col1\" class=\"data row6 col1\" >0.006032</td>\n",
       "                        <td id=\"T_aca2266f_2085_11ec_a1ba_e0d4e8a64de7row6_col2\" class=\"data row6 col2\" >-0.000495</td>\n",
       "                        <td id=\"T_aca2266f_2085_11ec_a1ba_e0d4e8a64de7row6_col3\" class=\"data row6 col3\" >-0.003133</td>\n",
       "                        <td id=\"T_aca2266f_2085_11ec_a1ba_e0d4e8a64de7row6_col4\" class=\"data row6 col4\" >0.005459</td>\n",
       "                        <td id=\"T_aca2266f_2085_11ec_a1ba_e0d4e8a64de7row6_col5\" class=\"data row6 col5\" >0.731802</td>\n",
       "                        <td id=\"T_aca2266f_2085_11ec_a1ba_e0d4e8a64de7row6_col6\" class=\"data row6 col6\" >1.000000</td>\n",
       "                        <td id=\"T_aca2266f_2085_11ec_a1ba_e0d4e8a64de7row6_col7\" class=\"data row6 col7\" >0.013602</td>\n",
       "            </tr>\n",
       "            <tr>\n",
       "                        <th id=\"T_aca2266f_2085_11ec_a1ba_e0d4e8a64de7level0_row7\" class=\"row_heading level0 row7\" >Tag</th>\n",
       "                        <td id=\"T_aca2266f_2085_11ec_a1ba_e0d4e8a64de7row7_col0\" class=\"data row7 col0\" >-0.084743</td>\n",
       "                        <td id=\"T_aca2266f_2085_11ec_a1ba_e0d4e8a64de7row7_col1\" class=\"data row7 col1\" >-0.040690</td>\n",
       "                        <td id=\"T_aca2266f_2085_11ec_a1ba_e0d4e8a64de7row7_col2\" class=\"data row7 col2\" >0.205104</td>\n",
       "                        <td id=\"T_aca2266f_2085_11ec_a1ba_e0d4e8a64de7row7_col3\" class=\"data row7 col3\" >-0.045968</td>\n",
       "                        <td id=\"T_aca2266f_2085_11ec_a1ba_e0d4e8a64de7row7_col4\" class=\"data row7 col4\" >0.210946</td>\n",
       "                        <td id=\"T_aca2266f_2085_11ec_a1ba_e0d4e8a64de7row7_col5\" class=\"data row7 col5\" >0.018918</td>\n",
       "                        <td id=\"T_aca2266f_2085_11ec_a1ba_e0d4e8a64de7row7_col6\" class=\"data row7 col6\" >0.013602</td>\n",
       "                        <td id=\"T_aca2266f_2085_11ec_a1ba_e0d4e8a64de7row7_col7\" class=\"data row7 col7\" >1.000000</td>\n",
       "            </tr>\n",
       "    </tbody></table>"
      ],
      "text/plain": [
       "<pandas.io.formats.style.Styler at 0x1eb72044b80>"
      ]
     },
     "execution_count": 21,
     "metadata": {},
     "output_type": "execute_result"
    }
   ],
   "source": [
    "r = np.random.RandomState(0)\n",
    "df1 = pd.DataFrame(r.rand(10,10))\n",
    "corr = df.corr()\n",
    "corr.style.background_gradient(cmap='coolwarm')"
   ]
  },
  {
   "cell_type": "code",
   "execution_count": 22,
   "id": "fb456986",
   "metadata": {},
   "outputs": [],
   "source": [
    "from sklearn.model_selection import train_test_split\n",
    "X_train,X_test,Y_train,Y_test = train_test_split(x,y,test_size=0.20,random_state=0)"
   ]
  },
  {
   "cell_type": "code",
   "execution_count": 23,
   "id": "505317cf",
   "metadata": {},
   "outputs": [
    {
     "data": {
      "text/plain": [
       "(536992, 7)"
      ]
     },
     "execution_count": 23,
     "metadata": {},
     "output_type": "execute_result"
    }
   ],
   "source": [
    "X_train.shape"
   ]
  },
  {
   "cell_type": "code",
   "execution_count": 24,
   "id": "51d79bb1",
   "metadata": {},
   "outputs": [],
   "source": [
    "from sklearn.metrics import accuracy_score"
   ]
  },
  {
   "cell_type": "markdown",
   "id": "35fb10a9",
   "metadata": {},
   "source": [
    "## logistic regression"
   ]
  },
  {
   "cell_type": "code",
   "execution_count": 25,
   "id": "8a9831cd",
   "metadata": {},
   "outputs": [],
   "source": [
    "from sklearn.linear_model import LogisticRegression\n",
    "\n",
    "lr = LogisticRegression()\n",
    "\n",
    "lr.fit(X_train,Y_train)\n",
    "\n",
    "Y_pred_lr = lr.predict(X_test)"
   ]
  },
  {
   "cell_type": "code",
   "execution_count": 26,
   "id": "4e1302b6",
   "metadata": {},
   "outputs": [
    {
     "name": "stdout",
     "output_type": "stream",
     "text": [
      "The accuracy score achieved using Logistic Regression is: 73.68 %\n"
     ]
    }
   ],
   "source": [
    "score_lr = round(accuracy_score(Y_pred_lr,Y_test)*100,2)\n",
    "\n",
    "print(\"The accuracy score achieved using Logistic Regression is: \"+str(score_lr)+\" %\")"
   ]
  },
  {
   "cell_type": "markdown",
   "id": "000f0daf",
   "metadata": {},
   "source": [
    "## Navie bayes"
   ]
  },
  {
   "cell_type": "code",
   "execution_count": 27,
   "id": "6751d696",
   "metadata": {},
   "outputs": [],
   "source": [
    "from sklearn.naive_bayes import GaussianNB\n",
    "\n",
    "nb = GaussianNB()\n",
    "\n",
    "nb.fit(X_train,Y_train)\n",
    "\n",
    "Y_pred_nb = nb.predict(X_test)"
   ]
  },
  {
   "cell_type": "code",
   "execution_count": 28,
   "id": "3bfbf707",
   "metadata": {},
   "outputs": [
    {
     "name": "stdout",
     "output_type": "stream",
     "text": [
      "The accuracy score achieved using Naive Bayes is: 79.94 %\n"
     ]
    }
   ],
   "source": [
    "score_nb = round(accuracy_score(Y_pred_nb,Y_test)*100,2)\n",
    "\n",
    "print(\"The accuracy score achieved using Naive Bayes is: \"+str(score_nb)+\" %\")"
   ]
  },
  {
   "cell_type": "markdown",
   "id": "5ac48d56",
   "metadata": {},
   "source": [
    "## XG Boost"
   ]
  },
  {
   "cell_type": "code",
   "execution_count": 29,
   "id": "83e00254",
   "metadata": {},
   "outputs": [
    {
     "name": "stderr",
     "output_type": "stream",
     "text": [
      "C:\\Users\\ANKIT\\anaconda3\\lib\\site-packages\\xgboost\\sklearn.py:1146: UserWarning: The use of label encoder in XGBClassifier is deprecated and will be removed in a future release. To remove this warning, do the following: 1) Pass option use_label_encoder=False when constructing XGBClassifier object; and 2) Encode your labels (y) as integers starting with 0, i.e. 0, 1, 2, ..., [num_class - 1].\n",
      "  warnings.warn(label_encoder_deprecation_msg, UserWarning)\n"
     ]
    },
    {
     "name": "stdout",
     "output_type": "stream",
     "text": [
      "[23:28:40] WARNING: ..\\src\\learner.cc:1095: Starting in XGBoost 1.3.0, the default evaluation metric used with the objective 'binary:logistic' was changed from 'error' to 'logloss'. Explicitly set eval_metric if you'd like to restore the old behavior.\n"
     ]
    },
    {
     "name": "stderr",
     "output_type": "stream",
     "text": [
      "C:\\Users\\ANKIT\\anaconda3\\lib\\site-packages\\xgboost\\data.py:112: UserWarning: Use subset (sliced data) of np.ndarray is not recommended because it will generate extra copies and increase memory consumption\n",
      "  warnings.warn(\n"
     ]
    }
   ],
   "source": [
    "import xgboost as xgb\n",
    "\n",
    "xgb_model = xgb.XGBClassifier(objective=\"binary:logistic\", random_state=42)\n",
    "xgb_model.fit(X_train, Y_train)\n",
    "\n",
    "Y_pred_xgb = xgb_model.predict(X_test)"
   ]
  },
  {
   "cell_type": "code",
   "execution_count": 30,
   "id": "efa7ad4a",
   "metadata": {},
   "outputs": [
    {
     "name": "stdout",
     "output_type": "stream",
     "text": [
      "The accuracy score achieved using XGBoost is: 100.0 %\n"
     ]
    }
   ],
   "source": [
    "score_xgb = round(accuracy_score(Y_pred_xgb,Y_test)*100,2)\n",
    "\n",
    "print(\"The accuracy score achieved using XGBoost is: \"+str(score_xgb)+\" %\")"
   ]
  },
  {
   "cell_type": "markdown",
   "id": "fb66fd43",
   "metadata": {},
   "source": [
    "## Model With Best Scores"
   ]
  },
  {
   "cell_type": "code",
   "execution_count": 42,
   "id": "c24976af",
   "metadata": {},
   "outputs": [
    {
     "name": "stdout",
     "output_type": "stream",
     "text": [
      "The accuracy score achieved using Logistic Regression is: 73.68 %\n",
      "The accuracy score achieved using Naive Bayes is: 79.94 %\n",
      "The accuracy score achieved using XGBoost is: 100.0 %\n"
     ]
    }
   ],
   "source": [
    "scores = [score_lr,score_nb,score_xgb]\n",
    "algorithms = [\"Logistic Regression\",\"Naive Bayes\",\"XGBoost\"]    \n",
    "\n",
    "for i in range(len(algorithms)):\n",
    "    print(\"The accuracy score achieved using \"+algorithms[i]+\" is: \"+str(scores[i])+\" %\")"
   ]
  },
  {
   "cell_type": "code",
   "execution_count": 44,
   "id": "6d96cafc",
   "metadata": {},
   "outputs": [
    {
     "name": "stderr",
     "output_type": "stream",
     "text": [
      "C:\\Users\\ANKIT\\anaconda3\\lib\\site-packages\\seaborn\\_decorators.py:36: FutureWarning: Pass the following variables as keyword args: x, y. From version 0.12, the only valid positional argument will be `data`, and passing other arguments without an explicit keyword will result in an error or misinterpretation.\n",
      "  warnings.warn(\n"
     ]
    },
    {
     "data": {
      "text/plain": [
       "<AxesSubplot:xlabel='Algorithms', ylabel='Accuracy score'>"
      ]
     },
     "execution_count": 44,
     "metadata": {},
     "output_type": "execute_result"
    },
    {
     "data": {
      "image/png": "[encoded data removed]",
      "text/plain": [
       "<Figure size 576x504 with 1 Axes>"
      ]
     },
     "metadata": {},
     "output_type": "display_data"
    }
   ],
   "source": [
    "sns.set(rc={'figure.figsize':(8,7)})\n",
    "plt.xlabel(\"Algorithms\")\n",
    "plt.ylabel(\"Accuracy score\")\n",
    "\n",
    "sns.barplot(algorithms,scores)"
   ]
  },
  {
   "cell_type": "code",
   "execution_count": null,
   "id": "7928515c",
   "metadata": {},
   "outputs": [],
   "source": []
  },
  {
   "cell_type": "code",
   "execution_count": null,
   "id": "8c350a20",
   "metadata": {},
   "outputs": [],
   "source": []
  }
 ],
 "metadata": {
  "kernelspec": {
   "display_name": "Python 3",
   "language": "python",
   "name": "python3"
  },
  "language_info": {
   "codemirror_mode": {
    "name": "ipython",
    "version": 3
   },
   "file_extension": ".py",
   "mimetype": "text/x-python",
   "name": "python",
   "nbconvert_exporter": "python",
   "pygments_lexer": "ipython3",
   "version": "3.8.8"
  }
 },
 "nbformat": 4,
 "nbformat_minor": 5
}
